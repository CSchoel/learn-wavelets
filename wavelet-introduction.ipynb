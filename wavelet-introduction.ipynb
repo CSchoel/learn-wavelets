{
 "cells": [
  {
   "cell_type": "markdown",
   "metadata": {},
   "source": [
    "Introduction to wavelet theory\n",
    "=========\n",
    "\n",
    "Author's Note:\n",
    "---------------\n",
    "I use this notebook to keep notes about my learning process about wavelet theory. I hope that these notes may help somebody else in their learning process, but as I am not an expert myself, they may of course contain erros. If you spot such an error, please contact me. "
   ]
  },
  {
   "cell_type": "code",
   "execution_count": null,
   "metadata": {
    "collapsed": true
   },
   "outputs": [],
   "source": []
  }
 ],
 "metadata": {
  "kernelspec": {
   "display_name": "Python 3",
   "language": "python",
   "name": "python3"
  },
  "language_info": {
   "codemirror_mode": {
    "name": "ipython",
    "version": 3
   },
   "file_extension": ".py",
   "mimetype": "text/x-python",
   "name": "python",
   "nbconvert_exporter": "python",
   "pygments_lexer": "ipython3",
   "version": "3.4.3"
  }
 },
 "nbformat": 4,
 "nbformat_minor": 0
}
